{
 "cells": [
  {
   "cell_type": "markdown",
   "id": "4cea5e01-25a2-45c2-96c8-f6ec2c17f4ed",
   "metadata": {},
   "source": [
    "## Loading in the Required Libraries"
   ]
  },
  {
   "cell_type": "code",
   "execution_count": 1,
   "id": "bd5a9916-2cd3-4075-90c5-b478be74a129",
   "metadata": {},
   "outputs": [],
   "source": [
    "import pandas as pd\n",
    "import numpy as np\n",
    "import matplotlib.pyplot as plt\n",
    "import seaborn as sns\n",
    "import math\n",
    "from tqdm import tqdm\n",
    "from sklearn.model_selection import train_test_split\n",
    "import random"
   ]
  },
  {
   "cell_type": "markdown",
   "id": "8457d431-60b3-4e60-bc8c-4144dc042477",
   "metadata": {},
   "source": [
    "## Function to read in the data as a pandas dataframe"
   ]
  },
  {
   "cell_type": "code",
   "execution_count": 2,
   "id": "24d37240-5ed8-4d8d-96ef-eb6e3fd4c654",
   "metadata": {},
   "outputs": [],
   "source": [
    "def dataset_reader(datafile):\n",
    "    \n",
    "    return pd.read_csv(datafile)\n"
   ]
  },
  {
   "cell_type": "markdown",
   "id": "8962e78e-3e92-4942-8cc0-96048cc77a39",
   "metadata": {},
   "source": [
    "## Class that perferoms Linear Regression:"
   ]
  },
  {
   "cell_type": "code",
   "execution_count": 34,
   "id": "d3ed6db4-3034-4033-9eb0-69d6717b7579",
   "metadata": {},
   "outputs": [],
   "source": [
    "class LinearRegression:\n",
    "    \"\"\"Class that performs Linear Regression\n",
    "    \n",
    "    Parameters:\n",
    "    ---------------\n",
    "    X- \n",
    "    y- Target\n",
    "    learningRate- Learning Rate\n",
    "    tolerance- Tolerance\n",
    "    maxIteration- The maximum number of iterations\n",
    "    lamda- The lamda value\n",
    "    error- Method to calculate the error\n",
    "    gd- Solve using Gradient Descent\n",
    "    sgd- Solve using Stochastic Gradient Descent\n",
    "    reg- Solve using Regularised Close Form Solution\n",
    "    reg_gd- Solve using Regularised Gradient Descent\n",
    "    \"\"\"\n",
    "\n",
    "    def __init__(self,X,y,learningRate,tolerance,lamda,maxIteration=50000,error='rmse',gd=False,sgd=False, reg=False, reg_gd=False):\n",
    "        \"\"\"Initialising the parameters\"\"\"\n",
    "        self.X = X\n",
    "        self.y = y\n",
    "        self.learningRate = learningRate\n",
    "        self.tolerance = tolerance\n",
    "        self.maxIteration = maxIteration\n",
    "        self.error = error\n",
    "        self.lamda = lamda\n",
    "        self.gd = gd\n",
    "        self.sgd = sgd\n",
    "        self.reg = reg\n",
    "        self.reg_gd = reg_gd\n",
    "\n",
    "    def splitTrainTest(self):\n",
    "        \"\"\"Function to Split the data into Training set and Test set\"\"\"\n",
    "        X_train, X_test, y_train, y_test = train_test_split(self.X, self.y, train_size = 0.2,\n",
    "                                                            random_state = 0)\n",
    "        return X_train, X_test, y_train, y_test\n",
    "    \n",
    "    def add_x0(self, X):\n",
    "        \"\"\"Function to add a column of ones to the dataset\"\"\"\n",
    "        return np.column_stack([np.ones([X.shape[0], 1]), X])\n",
    "\n",
    "    def normaize(self, X):\n",
    "        \"\"\"Function to normalize the Training dataset\"\"\"\n",
    "        mean = np.mean(X)\n",
    "        std = np.std(X)\n",
    "        X_norm = (X - mean) / std\n",
    "        X_norm = self.add_x0(X_norm)\n",
    "        \n",
    "        return X_norm, mean, std\n",
    "    \n",
    "    def normalizeTestData(self, X_test, train_mean, train_std):\n",
    "        \"\"\"Function to normalize the test dataset\"\"\"\n",
    "        X_norm = (X_test - train_mean) / train_std\n",
    "        X_norm = self.add_x0(X_norm)\n",
    "        \n",
    "        return X_norm\n",
    "    \n",
    "    def rank(self, X, eps = 1e-12):\n",
    "        \"\"\"Function to outupt the rank of the matrix\"\"\"\n",
    "        u, s, vh = np.linalg.rank(X)\n",
    "        \n",
    "        return len([x for x in vh if abs(x) > eps])\n",
    "    \n",
    "    def checkMatrix(self, X):\n",
    "        \"\"\"Function to check the matrix\"\"\"\n",
    "        X_rank = np.linalg.matrix_rank(X)\n",
    "        \n",
    "        if X_rank == min(X.shape[0], X.shape[1]):\n",
    "            self.full_rank = True\n",
    "            print(\"Data is full rank\")\n",
    "        else:\n",
    "            self.full_rank = False\n",
    "            print(\"Data is not full rank\")\n",
    "            \n",
    "    def checkInvertibility(self, X):\n",
    "        \"\"\"Function to check the invertibility of the matrix\"\"\"\n",
    "        if X.shape[0] < X.shape[1]:\n",
    "            self.lowRank = True\n",
    "            print(\"Matrix is low rank\")\n",
    "        else:\n",
    "            self.lowRank = False\n",
    "            print(\"Matrix is not low rank\")\n",
    "    \n",
    "    def closedFormSolution(self, X, y):\n",
    "        \"\"\"Function to calculate the closed form solution for Linear Regression\"\"\"\n",
    "        theta = np.linalg.inv(X.T.dot(X)).dot(X.T).dot(y)\n",
    "        \n",
    "        return theta\n",
    "    \n",
    "    def regClosedForm(self, X, y):\n",
    "        \"\"\"Function to calculate the regularised closed form solution\"\"\"\n",
    "        sizeofi = X.T.dot(X)\n",
    "        identity = np.eye(sizeofi.shape[0],sizeofi.shape[1])\n",
    "        self.theta = np.linalg.inv(X.T.dot(X)+self.lamda*identity).dot(X.T).dot(y)\n",
    "        return self.theta\n",
    "    \n",
    "    def gradientDescent(self, X, y):\n",
    "        \"\"\"Function to solve using Gradient Descent\"\"\"\n",
    "        #list to store the error values:\n",
    "        errors = []\n",
    "        last_error = float('inf')\n",
    "\n",
    "        for t in tqdm(range(self.maxIteration)):\n",
    "            self.theta = self.theta - self.learningRate * self.cost_derivative(X, y)\n",
    "\n",
    "            if self.error == 'rmse':\n",
    "                current_error = self.rmse(X, y)\n",
    "            else:\n",
    "                current_error = self.sse(X, y)\n",
    "                \n",
    "            error_difference = last_error - current_error\n",
    "            last_error = current_error\n",
    "            \n",
    "            errors.append(current_error)\n",
    "            \n",
    "            if error_difference < self.tolerance:\n",
    "                print(\"The model stopped learning - Converged\")\n",
    "                break\n",
    "\n",
    "        self.plot_error(errors)\n",
    "\n",
    "        return\n",
    "\n",
    "    def regularisedGD(self, X, y):\n",
    "        \"\"\"Function to solve using regularised Gradient Descent\"\"\"\n",
    "        #list to store the error values:\n",
    "        errors = []\n",
    "        last_error = float('inf')\n",
    "\n",
    "        for t in tqdm(range(self.maxIteration)):\n",
    "            self.theta = self.theta - self.learningRate * (self.cost_derivative(X, y) + (self.lamda * self.theta))\n",
    "\n",
    "            if self.error == 'rmse':\n",
    "                current_error = self.rmse(X, y)\n",
    "            else:\n",
    "                current_error = self.sse(X, y)\n",
    "                \n",
    "            error_difference = last_error - current_error\n",
    "            last_error = current_error\n",
    "            \n",
    "            errors.append(current_error)\n",
    "            \n",
    "            if error_difference < self.tolerance:\n",
    "                print(\"The model stopped learning - Converged\")\n",
    "                break\n",
    "\n",
    "    \n",
    "    def SGD(self, X, y):\n",
    "        \"\"\"Function to solve using Stochastic Gradient Descent\"\"\"\n",
    "        #list to store the error values:\n",
    "        errors = []\n",
    "        last_error = float('inf')\n",
    "\n",
    "        for t in tqdm(range(self.maxIteration)):\n",
    "            index = [random.randint(0,X.shape[0]-1) for i in np.arange(1,100,1)]\n",
    "            X = X[index]\n",
    "            y = y[index]\n",
    "            \n",
    "            sigma = 0.0000001\n",
    "            tau = 0.001\n",
    "            \n",
    "            alpha_t = sigma/(t + tau)\n",
    "            \n",
    "            self.theta = self.theta - alpha_t * (self.cost_derivative(X, y) + (self.lamda * self.theta))\n",
    "\n",
    "            if self.error == 'rmse':\n",
    "                current_error = self.rmse(X, y)\n",
    "            else:\n",
    "                current_error = self.sse(X, y)\n",
    "                \n",
    "            error_difference = last_error - current_error\n",
    "            last_error = current_error\n",
    "        \n",
    "            errors.append(current_error)\n",
    "           \n",
    "            if abs(error_difference) < self.tolerance:\n",
    "                print(\"The model stopped learning - Converged\")\n",
    "                break\n",
    "\n",
    "        self.plot_error(errors)\n",
    "        \n",
    "        return\n",
    "\n",
    "    def predict(self, X):\n",
    "        \"\"\"Function to predict using the test dataset\"\"\"\n",
    "        return X.dot(self.theta)\n",
    "\n",
    "    def sse(self, X, y):\n",
    "        \"\"\"Function to calculate the error using SSE\"\"\"\n",
    "        y_hat = self.predict(X)\n",
    "\n",
    "        return ((y_hat - y)**2).sum() #||X^T.Theta - y|| ^ 2\n",
    "    \n",
    "    def rmse(self, X, y):\n",
    "        \"\"\"Function to calculate the error using rmse\"\"\"\n",
    "        return np.sqrt(self.sse(X, y) / X.shape[0])\n",
    "\n",
    "    def cost_derivative(self, X, y):\n",
    "        \"\"\"Function to calculate the derivative based on the value of theta\"\"\"\n",
    "        y_hat = self.predict(X) #X^T.Theta\n",
    "        grad = (y_hat - y).dot(X) #X^T(Theta.X - y)\n",
    "        \n",
    "        return grad\n",
    "        \n",
    "    def plot_error(self, errors):\n",
    "        \"\"\"Function to plot the errors\"\"\"\n",
    "        y_axis = errors\n",
    "        x_axis = list(range(0,len(errors)))\n",
    "            \n",
    "        fig, ax = plt.subplots()\n",
    "        ax.plot(x_axis,y_axis)\n",
    "            \n",
    "        ax.set (xlabel = 'Iterations', ylabel = 'Error', title = 'Cost Function')\n",
    "        plt.show()\n",
    "    \n",
    "    def run_model(self):\n",
    "        \"\"\"Function that runs the model\"\"\"\n",
    "        #Splitting the data:\n",
    "        self.X_train, self.X_test, self.y_train, self.y_test = self.splitTrainTest()\n",
    "        \n",
    "        #normalise the data: \n",
    "        self.X_train, self.mean, self.std = self.normaize(self.X_train)\n",
    "        self.X_test = self.normalizeTestData(self.X_test, self.mean, self.std)\n",
    "        \n",
    "        self.checkMatrix(self.X_train)\n",
    "        self.checkInvertibility(self.X_train)\n",
    "        \n",
    "        if(self.full_rank and not self.lowRank and self.X_train.shape[0] <= 10000 \n",
    "        and not self.gd and not self.sgd and not self.reg and not self.reg_gd):\n",
    "            self.theta = self.closedFormSolution(self.X_train, self.y_train)\n",
    "            test_sse = self.sse(self.X_test, self.y_test)\n",
    "            test_rmse = self.rmse(self.X_test, self.y_test)\n",
    "        elif self.gd:\n",
    "            self.theta = np.ones(self.X_train.shape[1], dtype = np.float64) * 0\n",
    "            self.gradientDescent(self.X_train, self.y_train)\n",
    "            test_sse = self.sse(self.X_test, self.y_test)\n",
    "            test_rmse = self.rmse(self.X_test, self.y_test)\n",
    "        elif self.sgd:\n",
    "            self.theta = np.ones(self.X_train.shape[1], dtype = np.float64) * 0\n",
    "            self.SGD(self.X_train, self.y_train)\n",
    "            test_sse = self.sse(self.X_test, self.y_test)\n",
    "            test_rmse = self.rmse(self.X_test, self.y_test)\n",
    "        elif self.reg_gd:\n",
    "            self.theta = np.ones(self.X_train.shape[1], dtype = np.float64) * 0\n",
    "            self.regularisedGD(self.X_train, self.y_train)\n",
    "            test_sse = self.sse(self.X_test, self.y_test)\n",
    "            test_rmse = self.rmse(self.X_test, self.y_test)\n",
    "        elif self.reg:\n",
    "            self.theta = self.regClosedForm(self.X_train, self.y_train)\n",
    "            test_sse = self.sse(self.X_test, self.y_test)\n",
    "            test_rmse = self.rmse(self.X_test, self.y_test)\n",
    "        \n",
    "        print(self.theta)\n",
    "        print('SSE:', test_sse)\n",
    "        print('RMSE:', test_rmse)"
   ]
  },
  {
   "cell_type": "markdown",
   "id": "d83312d9-50be-42a3-8f5a-ec64275c6e22",
   "metadata": {},
   "source": [
    "### Reading in the Housing Dataset "
   ]
  },
  {
   "cell_type": "code",
   "execution_count": 5,
   "id": "d27e8bdc-a5eb-406c-9a28-20e3340333df",
   "metadata": {},
   "outputs": [
    {
     "data": {
      "text/html": [
       "<div>\n",
       "<style scoped>\n",
       "    .dataframe tbody tr th:only-of-type {\n",
       "        vertical-align: middle;\n",
       "    }\n",
       "\n",
       "    .dataframe tbody tr th {\n",
       "        vertical-align: top;\n",
       "    }\n",
       "\n",
       "    .dataframe thead th {\n",
       "        text-align: right;\n",
       "    }\n",
       "</style>\n",
       "<table border=\"1\" class=\"dataframe\">\n",
       "  <thead>\n",
       "    <tr style=\"text-align: right;\">\n",
       "      <th></th>\n",
       "      <th>0.00632</th>\n",
       "      <th>18</th>\n",
       "      <th>2.31</th>\n",
       "      <th>0</th>\n",
       "      <th>0.538</th>\n",
       "      <th>6.575</th>\n",
       "      <th>65.2</th>\n",
       "      <th>4.09</th>\n",
       "      <th>1</th>\n",
       "      <th>296</th>\n",
       "      <th>15.3</th>\n",
       "      <th>396.9</th>\n",
       "      <th>4.98</th>\n",
       "      <th>24</th>\n",
       "    </tr>\n",
       "  </thead>\n",
       "  <tbody>\n",
       "    <tr>\n",
       "      <th>0</th>\n",
       "      <td>0.02731</td>\n",
       "      <td>0.0</td>\n",
       "      <td>7.07</td>\n",
       "      <td>0</td>\n",
       "      <td>0.469</td>\n",
       "      <td>6.421</td>\n",
       "      <td>78.9</td>\n",
       "      <td>4.9671</td>\n",
       "      <td>2</td>\n",
       "      <td>242</td>\n",
       "      <td>17.8</td>\n",
       "      <td>396.90</td>\n",
       "      <td>9.14</td>\n",
       "      <td>21.6</td>\n",
       "    </tr>\n",
       "    <tr>\n",
       "      <th>1</th>\n",
       "      <td>0.02729</td>\n",
       "      <td>0.0</td>\n",
       "      <td>7.07</td>\n",
       "      <td>0</td>\n",
       "      <td>0.469</td>\n",
       "      <td>7.185</td>\n",
       "      <td>61.1</td>\n",
       "      <td>4.9671</td>\n",
       "      <td>2</td>\n",
       "      <td>242</td>\n",
       "      <td>17.8</td>\n",
       "      <td>392.83</td>\n",
       "      <td>4.03</td>\n",
       "      <td>34.7</td>\n",
       "    </tr>\n",
       "    <tr>\n",
       "      <th>2</th>\n",
       "      <td>0.03237</td>\n",
       "      <td>0.0</td>\n",
       "      <td>2.18</td>\n",
       "      <td>0</td>\n",
       "      <td>0.458</td>\n",
       "      <td>6.998</td>\n",
       "      <td>45.8</td>\n",
       "      <td>6.0622</td>\n",
       "      <td>3</td>\n",
       "      <td>222</td>\n",
       "      <td>18.7</td>\n",
       "      <td>394.63</td>\n",
       "      <td>2.94</td>\n",
       "      <td>33.4</td>\n",
       "    </tr>\n",
       "    <tr>\n",
       "      <th>3</th>\n",
       "      <td>0.06905</td>\n",
       "      <td>0.0</td>\n",
       "      <td>2.18</td>\n",
       "      <td>0</td>\n",
       "      <td>0.458</td>\n",
       "      <td>7.147</td>\n",
       "      <td>54.2</td>\n",
       "      <td>6.0622</td>\n",
       "      <td>3</td>\n",
       "      <td>222</td>\n",
       "      <td>18.7</td>\n",
       "      <td>396.90</td>\n",
       "      <td>5.33</td>\n",
       "      <td>36.2</td>\n",
       "    </tr>\n",
       "    <tr>\n",
       "      <th>4</th>\n",
       "      <td>0.02985</td>\n",
       "      <td>0.0</td>\n",
       "      <td>2.18</td>\n",
       "      <td>0</td>\n",
       "      <td>0.458</td>\n",
       "      <td>6.430</td>\n",
       "      <td>58.7</td>\n",
       "      <td>6.0622</td>\n",
       "      <td>3</td>\n",
       "      <td>222</td>\n",
       "      <td>18.7</td>\n",
       "      <td>394.12</td>\n",
       "      <td>5.21</td>\n",
       "      <td>28.7</td>\n",
       "    </tr>\n",
       "  </tbody>\n",
       "</table>\n",
       "</div>"
      ],
      "text/plain": [
       "   0.00632   18  2.31  0  0.538  6.575  65.2    4.09  1  296  15.3   396.9  \\\n",
       "0  0.02731  0.0  7.07  0  0.469  6.421  78.9  4.9671  2  242  17.8  396.90   \n",
       "1  0.02729  0.0  7.07  0  0.469  7.185  61.1  4.9671  2  242  17.8  392.83   \n",
       "2  0.03237  0.0  2.18  0  0.458  6.998  45.8  6.0622  3  222  18.7  394.63   \n",
       "3  0.06905  0.0  2.18  0  0.458  7.147  54.2  6.0622  3  222  18.7  396.90   \n",
       "4  0.02985  0.0  2.18  0  0.458  6.430  58.7  6.0622  3  222  18.7  394.12   \n",
       "\n",
       "   4.98    24  \n",
       "0  9.14  21.6  \n",
       "1  4.03  34.7  \n",
       "2  2.94  33.4  \n",
       "3  5.33  36.2  \n",
       "4  5.21  28.7  "
      ]
     },
     "execution_count": 5,
     "metadata": {},
     "output_type": "execute_result"
    }
   ],
   "source": [
    "df = dataset_reader('housing.csv')\n",
    "\n",
    "df.head()"
   ]
  },
  {
   "cell_type": "markdown",
   "id": "56580af2-4f96-4753-b6e7-aad75e9fc043",
   "metadata": {},
   "source": [
    "### Closed Form Solution without Regularisation"
   ]
  },
  {
   "cell_type": "code",
   "execution_count": 9,
   "id": "1c19a829-39cc-4b26-8cad-768fa00b265d",
   "metadata": {},
   "outputs": [],
   "source": [
    "test_1 = LinearRegression(df.values[:,0:-1], df.values[:,-1], learningRate=0.00001, tolerance=0.0000001,\n",
    "                          lamda=0.001, gd=False, sgd=False, reg=False, reg_gd=False)"
   ]
  },
  {
   "cell_type": "code",
   "execution_count": 10,
   "id": "b3bcde0d-60a6-457d-a2b0-fd6a923da65c",
   "metadata": {},
   "outputs": [
    {
     "name": "stdout",
     "output_type": "stream",
     "text": [
      "Data is full rank\n",
      "Matrix is not low rank\n",
      "[-9.26658731e+02 -2.21546975e+01  7.02747161e+00  1.32975606e+01\n",
      "  6.52554464e+01 -2.46852079e+03  7.73499367e+02  2.95052207e+00\n",
      " -1.88668991e+02  3.43652599e+01 -1.70754280e+00 -1.25290587e+02\n",
      "  1.70405788e+00 -8.17555558e+01]\n",
      "SSE: 9947.031412046732\n",
      "RMSE: 4.961992027533276\n"
     ]
    }
   ],
   "source": [
    "test_1.run_model()"
   ]
  },
  {
   "cell_type": "markdown",
   "id": "b85a16ae-f789-4ef4-8c26-f6e48c323a42",
   "metadata": {},
   "source": [
    "### Closed Form Solution with Regularisation"
   ]
  },
  {
   "cell_type": "code",
   "execution_count": 11,
   "id": "399b1ec9-3d45-4a70-8737-d4f2358ab6d3",
   "metadata": {},
   "outputs": [],
   "source": [
    "test_1 = LinearRegression(df.values[:,0:-1], df.values[:,-1], learningRate=0.00001,tolerance=0.0000001,\n",
    "                          lamda=0.001, gd=False, sgd=False, reg=True, reg_gd=False)"
   ]
  },
  {
   "cell_type": "code",
   "execution_count": 12,
   "id": "08470cd0-92a0-4006-8c80-003b8003a871",
   "metadata": {},
   "outputs": [
    {
     "name": "stdout",
     "output_type": "stream",
     "text": [
      "Data is full rank\n",
      "Matrix is not low rank\n",
      "[  -5.85278591  -22.38868443   11.08772662   -0.65037657  -35.80095734\n",
      "  -27.30923381  342.05809103    4.07295299 -154.59051747   30.80395029\n",
      "   -1.83288209 -117.9191007     1.5154218  -111.3311706 ]\n",
      "SSE: 10554.432996526684\n",
      "RMSE: 5.111245851044393\n"
     ]
    }
   ],
   "source": [
    "test_1.run_model()"
   ]
  },
  {
   "cell_type": "markdown",
   "id": "933548c6-3a1f-4585-ab0d-a952cad3ea6f",
   "metadata": {},
   "source": [
    "### Gradient Desect without Regularisation"
   ]
  },
  {
   "cell_type": "code",
   "execution_count": 15,
   "id": "b4349d0a-d2f8-4d5b-8e9b-5671a56badfd",
   "metadata": {},
   "outputs": [],
   "source": [
    "test_1 = LinearRegression(df.values[:,0:-1], df.values[:,-1], learningRate=0.00001, tolerance=0.0000001,\n",
    "                          lamda=0.001, error='rmse', gd=True, sgd=False, reg=False, reg_gd=False)"
   ]
  },
  {
   "cell_type": "code",
   "execution_count": 16,
   "id": "373beec1-c314-41b3-808b-aea93bf1ea22",
   "metadata": {},
   "outputs": [
    {
     "name": "stderr",
     "output_type": "stream",
     "text": [
      " 15%|██████████▉                                                               | 7364/50000 [00:00<00:00, 73081.28it/s]"
     ]
    },
    {
     "name": "stdout",
     "output_type": "stream",
     "text": [
      "Data is full rank\n",
      "Matrix is not low rank\n"
     ]
    },
    {
     "name": "stderr",
     "output_type": "stream",
     "text": [
      "100%|█████████████████████████████████████████████████████████████████████████| 50000/50000 [00:00<00:00, 79904.35it/s]\n"
     ]
    },
    {
     "data": {
      "image/png": "[encoded data removed]",
      "text/plain": [
       "<Figure size 432x288 with 1 Axes>"
      ]
     },
     "metadata": {
      "needs_background": "light"
     },
     "output_type": "display_data"
    },
    {
     "name": "stdout",
     "output_type": "stream",
     "text": [
      "[  8.20691334  -6.58920731  10.28491854  -5.62052092  -3.91571116\n",
      "  -3.89202415  -2.47047216  -5.21195187  -4.43872111  -2.86982406\n",
      "  -1.88839459  -5.08472815   1.59262748 -11.87357956]\n",
      "SSE: 22559.70846193013\n",
      "RMSE: 7.472674389368911\n"
     ]
    }
   ],
   "source": [
    "test_1.run_model()"
   ]
  },
  {
   "cell_type": "markdown",
   "id": "fbc8d376-829e-43b0-8f8f-f2a616d6bfbd",
   "metadata": {},
   "source": [
    "### Gradient Descent with Regularisation"
   ]
  },
  {
   "cell_type": "code",
   "execution_count": 17,
   "id": "bcc4937a-b362-43ac-853d-f74ef2b6d219",
   "metadata": {},
   "outputs": [],
   "source": [
    "test_1 = LinearRegression(df.values[:,0:-1], df.values[:,-1], learningRate=0.00001, tolerance=0.0000001,\n",
    "                          lamda=0.001, error='rmse', gd=False, sgd=False, reg=False, reg_gd=True)"
   ]
  },
  {
   "cell_type": "code",
   "execution_count": 18,
   "id": "e25d9117-0911-4fd6-a0ff-13e5f8de46b6",
   "metadata": {},
   "outputs": [
    {
     "name": "stderr",
     "output_type": "stream",
     "text": [
      " 26%|██████████████████▊                                                      | 12859/50000 [00:00<00:00, 64901.02it/s]"
     ]
    },
    {
     "name": "stdout",
     "output_type": "stream",
     "text": [
      "Data is full rank\n",
      "Matrix is not low rank\n"
     ]
    },
    {
     "name": "stderr",
     "output_type": "stream",
     "text": [
      "100%|█████████████████████████████████████████████████████████████████████████| 50000/50000 [00:00<00:00, 72218.51it/s]"
     ]
    },
    {
     "name": "stdout",
     "output_type": "stream",
     "text": [
      "[  8.20654408  -6.58845094  10.28266434  -5.61999981  -3.91553442\n",
      "  -3.89185057  -2.4705717   -5.21169923  -4.43831402  -2.8699558\n",
      "  -1.8883349   -5.08409078   1.59321826 -11.871453  ]\n",
      "SSE: 22559.82533275626\n",
      "RMSE: 7.472693745481151\n"
     ]
    },
    {
     "name": "stderr",
     "output_type": "stream",
     "text": [
      "\n"
     ]
    }
   ],
   "source": [
    "test_1.run_model()"
   ]
  },
  {
   "cell_type": "markdown",
   "id": "c5217fdc-b9b7-4d68-8bf5-837bb485c46e",
   "metadata": {},
   "source": [
    "### Stochastic Gradient Descent"
   ]
  },
  {
   "cell_type": "code",
   "execution_count": 35,
   "id": "d70d34c4-e9bc-4c25-9812-4576a9d66a91",
   "metadata": {},
   "outputs": [],
   "source": [
    "test_1 = LinearRegression(df.values[:,0:-1], df.values[:,-1], learningRate=0.00001, tolerance=0.0000001,\n",
    "                          lamda=0.001, error='rmse', gd=False, sgd=True, reg=False, reg_gd=False)"
   ]
  },
  {
   "cell_type": "code",
   "execution_count": 36,
   "id": "3b00bf97-f073-4e82-8196-b72a091be30e",
   "metadata": {},
   "outputs": [
    {
     "name": "stderr",
     "output_type": "stream",
     "text": [
      "  3%|██                                                                         | 1401/50000 [00:00<00:06, 7029.45it/s]"
     ]
    },
    {
     "name": "stdout",
     "output_type": "stream",
     "text": [
      "Data is full rank\n",
      "Matrix is not low rank\n"
     ]
    },
    {
     "name": "stderr",
     "output_type": "stream",
     "text": [
      " 54%|███████████████████████████████████████▊                                  | 26898/50000 [00:03<00:03, 6870.42it/s]"
     ]
    },
    {
     "name": "stdout",
     "output_type": "stream",
     "text": [
      "The model stopped learning - Converged\n"
     ]
    },
    {
     "name": "stderr",
     "output_type": "stream",
     "text": [
      "\n"
     ]
    },
    {
     "data": {
      "image/png": "[encoded data removed]",
      "text/plain": [
       "<Figure size 432x288 with 1 Axes>"
      ]
     },
     "metadata": {
      "needs_background": "light"
     },
     "output_type": "display_data"
    },
    {
     "name": "stdout",
     "output_type": "stream",
     "text": [
      "[ 0.23124728 -0.10782551 -0.0810986  -0.09481319 -0.11020288 -0.10944136\n",
      " -0.10029119 -0.02101599 -0.10393379 -0.09719619  0.47974555 -0.081406\n",
      "  0.46834501 -0.09408022]\n",
      "SSE: 193976.28101963282\n",
      "RMSE: 21.91208135834058\n"
     ]
    }
   ],
   "source": [
    "test_1.run_model()"
   ]
  },
  {
   "cell_type": "markdown",
   "id": "1588284a-e97e-4c93-a126-425793125564",
   "metadata": {},
   "source": [
    "### Reading in the Concrete Dataset"
   ]
  },
  {
   "cell_type": "code",
   "execution_count": 37,
   "id": "2ee87888-9043-4975-b6b8-d0c4023fc862",
   "metadata": {},
   "outputs": [
    {
     "data": {
      "text/html": [
       "<div>\n",
       "<style scoped>\n",
       "    .dataframe tbody tr th:only-of-type {\n",
       "        vertical-align: middle;\n",
       "    }\n",
       "\n",
       "    .dataframe tbody tr th {\n",
       "        vertical-align: top;\n",
       "    }\n",
       "\n",
       "    .dataframe thead th {\n",
       "        text-align: right;\n",
       "    }\n",
       "</style>\n",
       "<table border=\"1\" class=\"dataframe\">\n",
       "  <thead>\n",
       "    <tr style=\"text-align: right;\">\n",
       "      <th></th>\n",
       "      <th>540</th>\n",
       "      <th>0</th>\n",
       "      <th>0.1</th>\n",
       "      <th>162</th>\n",
       "      <th>2.5</th>\n",
       "      <th>1040</th>\n",
       "      <th>676</th>\n",
       "      <th>28</th>\n",
       "      <th>79.99</th>\n",
       "    </tr>\n",
       "  </thead>\n",
       "  <tbody>\n",
       "    <tr>\n",
       "      <th>0</th>\n",
       "      <td>540.0</td>\n",
       "      <td>0.0</td>\n",
       "      <td>0.0</td>\n",
       "      <td>162.0</td>\n",
       "      <td>2.5</td>\n",
       "      <td>1055.0</td>\n",
       "      <td>676.0</td>\n",
       "      <td>28</td>\n",
       "      <td>61.89</td>\n",
       "    </tr>\n",
       "    <tr>\n",
       "      <th>1</th>\n",
       "      <td>332.5</td>\n",
       "      <td>142.5</td>\n",
       "      <td>0.0</td>\n",
       "      <td>228.0</td>\n",
       "      <td>0.0</td>\n",
       "      <td>932.0</td>\n",
       "      <td>594.0</td>\n",
       "      <td>270</td>\n",
       "      <td>40.27</td>\n",
       "    </tr>\n",
       "    <tr>\n",
       "      <th>2</th>\n",
       "      <td>332.5</td>\n",
       "      <td>142.5</td>\n",
       "      <td>0.0</td>\n",
       "      <td>228.0</td>\n",
       "      <td>0.0</td>\n",
       "      <td>932.0</td>\n",
       "      <td>594.0</td>\n",
       "      <td>365</td>\n",
       "      <td>41.05</td>\n",
       "    </tr>\n",
       "    <tr>\n",
       "      <th>3</th>\n",
       "      <td>198.6</td>\n",
       "      <td>132.4</td>\n",
       "      <td>0.0</td>\n",
       "      <td>192.0</td>\n",
       "      <td>0.0</td>\n",
       "      <td>978.4</td>\n",
       "      <td>825.5</td>\n",
       "      <td>360</td>\n",
       "      <td>44.30</td>\n",
       "    </tr>\n",
       "    <tr>\n",
       "      <th>4</th>\n",
       "      <td>266.0</td>\n",
       "      <td>114.0</td>\n",
       "      <td>0.0</td>\n",
       "      <td>228.0</td>\n",
       "      <td>0.0</td>\n",
       "      <td>932.0</td>\n",
       "      <td>670.0</td>\n",
       "      <td>90</td>\n",
       "      <td>47.03</td>\n",
       "    </tr>\n",
       "  </tbody>\n",
       "</table>\n",
       "</div>"
      ],
      "text/plain": [
       "     540      0  0.1    162  2.5    1040    676   28  79.99\n",
       "0  540.0    0.0  0.0  162.0  2.5  1055.0  676.0   28  61.89\n",
       "1  332.5  142.5  0.0  228.0  0.0   932.0  594.0  270  40.27\n",
       "2  332.5  142.5  0.0  228.0  0.0   932.0  594.0  365  41.05\n",
       "3  198.6  132.4  0.0  192.0  0.0   978.4  825.5  360  44.30\n",
       "4  266.0  114.0  0.0  228.0  0.0   932.0  670.0   90  47.03"
      ]
     },
     "execution_count": 37,
     "metadata": {},
     "output_type": "execute_result"
    }
   ],
   "source": [
    "df1 = dataset_reader('concreteData.csv')\n",
    "\n",
    "df1.head()"
   ]
  },
  {
   "cell_type": "markdown",
   "id": "fbbc7e7d-a05e-4af3-9151-90b9a7f48a2b",
   "metadata": {},
   "source": [
    "### Closed Form Solution without Regularisation"
   ]
  },
  {
   "cell_type": "code",
   "execution_count": 38,
   "id": "853f3660-3e13-490a-a3d3-c8c98a6990b9",
   "metadata": {},
   "outputs": [],
   "source": [
    "test_2 = LinearRegression(df1.values[:,0:-1], df1.values[:,-1], learningRate=0.00001, tolerance=0.0000001,\n",
    "                          lamda=0.001, gd=False, sgd=False, reg=False, reg_gd=False)"
   ]
  },
  {
   "cell_type": "code",
   "execution_count": 39,
   "id": "1afdcdea-106e-4ad7-abd8-9a4c4991d87d",
   "metadata": {},
   "outputs": [
    {
     "name": "stdout",
     "output_type": "stream",
     "text": [
      "Data is full rank\n",
      "Matrix is not low rank\n",
      "[144.42049143  46.61285438  41.45819372  37.51568723 -27.24652503\n",
      "  84.45543671   7.5487383   13.84726964  35.98616704]\n",
      "SSE: 91275.5196882124\n",
      "RMSE: 10.524792718031996\n"
     ]
    }
   ],
   "source": [
    "test_2.run_model()"
   ]
  },
  {
   "cell_type": "markdown",
   "id": "9165637f-09b7-4265-93d2-3fc096ecb027",
   "metadata": {},
   "source": [
    "### Closed Form Solution with Regularisation"
   ]
  },
  {
   "cell_type": "code",
   "execution_count": 40,
   "id": "2a9f1dc6-91f2-4f5c-8da1-06e7b2c51cfc",
   "metadata": {},
   "outputs": [],
   "source": [
    "test_2 = LinearRegression(df1.values[:,0:-1], df1.values[:,-1], learningRate=0.00001,tolerance=0.0000001,\n",
    "                          lamda=0.001, gd=False, sgd=False, reg=True, reg_gd=False)"
   ]
  },
  {
   "cell_type": "code",
   "execution_count": 41,
   "id": "2d669e38-5ae3-4f36-b60f-3aa2c2d41339",
   "metadata": {},
   "outputs": [
    {
     "name": "stdout",
     "output_type": "stream",
     "text": [
      "Data is full rank\n",
      "Matrix is not low rank\n",
      "[136.82395014  46.72298938  41.54482416  37.70019034 -29.04688662\n",
      "  75.23463534   7.32188838  13.78857405  35.93063533]\n",
      "SSE: 91349.18528985139\n",
      "RMSE: 10.529038976066543\n"
     ]
    }
   ],
   "source": [
    "test_2.run_model()"
   ]
  },
  {
   "cell_type": "markdown",
   "id": "e5a0375b-a81e-4afb-9b6b-8dffe2351058",
   "metadata": {},
   "source": [
    "### Gradient Descent without Regularisation"
   ]
  },
  {
   "cell_type": "code",
   "execution_count": 42,
   "id": "ecf3e24d-513c-477f-9713-6ec8ccc65c2a",
   "metadata": {},
   "outputs": [],
   "source": [
    "test_2 = LinearRegression(df1.values[:,0:-1], df1.values[:,-1], learningRate=0.00001, tolerance=0.0000001,\n",
    "                          lamda=0.001, error='rmse', gd=True, sgd=False, reg=False, reg_gd=False)"
   ]
  },
  {
   "cell_type": "code",
   "execution_count": 43,
   "id": "77f33741-3c6c-44e1-ad78-cc0269f2b016",
   "metadata": {},
   "outputs": [
    {
     "name": "stderr",
     "output_type": "stream",
     "text": [
      " 15%|███████████▏                                                              | 7601/50000 [00:00<00:01, 40442.68it/s]"
     ]
    },
    {
     "name": "stdout",
     "output_type": "stream",
     "text": [
      "Data is full rank\n",
      "Matrix is not low rank\n"
     ]
    },
    {
     "name": "stderr",
     "output_type": "stream",
     "text": [
      "100%|█████████████████████████████████████████████████████████████████████████| 50000/50000 [00:00<00:00, 59988.04it/s]\n"
     ]
    },
    {
     "data": {
      "image/png": "[encoded data removed]",
      "text/plain": [
       "<Figure size 432x288 with 1 Axes>"
      ]
     },
     "metadata": {
      "needs_background": "light"
     },
     "output_type": "display_data"
    },
    {
     "name": "stdout",
     "output_type": "stream",
     "text": [
      "[ 31.43370108  40.69796092  32.34429209  19.30676878 -26.7109932\n",
      " -18.41257152   7.71530477  14.63054798  25.75075162]\n",
      "SSE: 108422.13499070343\n",
      "RMSE: 11.470843949380876\n"
     ]
    }
   ],
   "source": [
    "test_2.run_model()"
   ]
  },
  {
   "cell_type": "markdown",
   "id": "b3a6fcc2-3ae2-4874-9c3e-09420cb3da4c",
   "metadata": {},
   "source": [
    "### Gradient Descent with Regularisation"
   ]
  },
  {
   "cell_type": "code",
   "execution_count": 44,
   "id": "f9fd7321-9908-4539-a801-d5e5699c8bd3",
   "metadata": {},
   "outputs": [],
   "source": [
    "test_2 = LinearRegression(df1.values[:,0:-1], df1.values[:,-1], learningRate=0.00001, tolerance=0.0000001,\n",
    "                          lamda=0.001, error='rmse', gd=False, sgd=False, reg=False, reg_gd=True)"
   ]
  },
  {
   "cell_type": "code",
   "execution_count": 45,
   "id": "8ef2f891-0d74-41c3-90c7-bf7e9f7d46a3",
   "metadata": {},
   "outputs": [
    {
     "name": "stderr",
     "output_type": "stream",
     "text": [
      " 22%|███████████████▊                                                         | 10836/50000 [00:00<00:00, 54545.68it/s]"
     ]
    },
    {
     "name": "stdout",
     "output_type": "stream",
     "text": [
      "Data is full rank\n",
      "Matrix is not low rank\n"
     ]
    },
    {
     "name": "stderr",
     "output_type": "stream",
     "text": [
      "100%|█████████████████████████████████████████████████████████████████████████| 50000/50000 [00:00<00:00, 62361.06it/s]"
     ]
    },
    {
     "name": "stdout",
     "output_type": "stream",
     "text": [
      "[ 31.42821028  40.69305563  32.33808991  19.29943671 -26.70578154\n",
      " -18.40964323   7.715023    14.62850787  25.74574049]\n",
      "SSE: 108431.58015843394\n",
      "RMSE: 11.471343578380218\n"
     ]
    },
    {
     "name": "stderr",
     "output_type": "stream",
     "text": [
      "\n"
     ]
    }
   ],
   "source": [
    "test_2.run_model()"
   ]
  },
  {
   "cell_type": "markdown",
   "id": "3feaba1b-d246-4eba-a8cc-9080fea1d92c",
   "metadata": {},
   "source": [
    "### Stochastic Gradient Descent"
   ]
  },
  {
   "cell_type": "code",
   "execution_count": 46,
   "id": "6725a3e4-3278-45ed-a49e-f22ad7bef83c",
   "metadata": {},
   "outputs": [],
   "source": [
    "test_2 = LinearRegression(df1.values[:,0:-1], df1.values[:,-1], learningRate=0.00001, tolerance=0.0000001,\n",
    "                          lamda=0.001, error='rmse', gd=False, sgd=True, reg=False, reg_gd=False)"
   ]
  },
  {
   "cell_type": "code",
   "execution_count": 47,
   "id": "16e4b6b4-16db-4dd2-a476-857524b05167",
   "metadata": {},
   "outputs": [
    {
     "name": "stderr",
     "output_type": "stream",
     "text": [
      "  3%|██                                                                         | 1339/50000 [00:00<00:07, 6807.54it/s]"
     ]
    },
    {
     "name": "stdout",
     "output_type": "stream",
     "text": [
      "Data is full rank\n",
      "Matrix is not low rank\n"
     ]
    },
    {
     "name": "stderr",
     "output_type": "stream",
     "text": [
      " 46%|██████████████████████████████████                                        | 23036/50000 [00:03<00:03, 7118.07it/s]"
     ]
    },
    {
     "name": "stdout",
     "output_type": "stream",
     "text": [
      "The model stopped learning - Converged\n"
     ]
    },
    {
     "name": "stderr",
     "output_type": "stream",
     "text": [
      "\n"
     ]
    },
    {
     "data": {
      "image/png": "[encoded data removed]",
      "text/plain": [
       "<Figure size 432x288 with 1 Axes>"
      ]
     },
     "metadata": {
      "needs_background": "light"
     },
     "output_type": "display_data"
    },
    {
     "name": "stdout",
     "output_type": "stream",
     "text": [
      "[ 0.36005267 -0.01617638 -0.20589134 -0.25609421 -0.12349355 -0.29828735\n",
      "  0.68570393  0.48630325 -0.25894315]\n",
      "SSE: 1105950.9273943726\n",
      "RMSE: 36.6356855480513\n"
     ]
    }
   ],
   "source": [
    "test_2.run_model()"
   ]
  },
  {
   "cell_type": "markdown",
   "id": "d229bf98-e5c2-4464-b2af-0f5533a0b61c",
   "metadata": {},
   "source": [
    "### Reading in the Yacht Dataset"
   ]
  },
  {
   "cell_type": "code",
   "execution_count": 48,
   "id": "f916f538-2929-4a9c-be9d-683f166c06d6",
   "metadata": {},
   "outputs": [
    {
     "data": {
      "text/html": [
       "<div>\n",
       "<style scoped>\n",
       "    .dataframe tbody tr th:only-of-type {\n",
       "        vertical-align: middle;\n",
       "    }\n",
       "\n",
       "    .dataframe tbody tr th {\n",
       "        vertical-align: top;\n",
       "    }\n",
       "\n",
       "    .dataframe thead th {\n",
       "        text-align: right;\n",
       "    }\n",
       "</style>\n",
       "<table border=\"1\" class=\"dataframe\">\n",
       "  <thead>\n",
       "    <tr style=\"text-align: right;\">\n",
       "      <th></th>\n",
       "      <th>-2.3</th>\n",
       "      <th>0.568</th>\n",
       "      <th>4.78</th>\n",
       "      <th>3.99</th>\n",
       "      <th>3.17</th>\n",
       "      <th>0.125</th>\n",
       "      <th>0.11</th>\n",
       "    </tr>\n",
       "  </thead>\n",
       "  <tbody>\n",
       "    <tr>\n",
       "      <th>0</th>\n",
       "      <td>-2.3</td>\n",
       "      <td>0.568</td>\n",
       "      <td>4.78</td>\n",
       "      <td>3.99</td>\n",
       "      <td>3.17</td>\n",
       "      <td>0.150</td>\n",
       "      <td>0.27</td>\n",
       "    </tr>\n",
       "    <tr>\n",
       "      <th>1</th>\n",
       "      <td>-2.3</td>\n",
       "      <td>0.568</td>\n",
       "      <td>4.78</td>\n",
       "      <td>3.99</td>\n",
       "      <td>3.17</td>\n",
       "      <td>0.175</td>\n",
       "      <td>0.47</td>\n",
       "    </tr>\n",
       "    <tr>\n",
       "      <th>2</th>\n",
       "      <td>-2.3</td>\n",
       "      <td>0.568</td>\n",
       "      <td>4.78</td>\n",
       "      <td>3.99</td>\n",
       "      <td>3.17</td>\n",
       "      <td>0.200</td>\n",
       "      <td>0.78</td>\n",
       "    </tr>\n",
       "    <tr>\n",
       "      <th>3</th>\n",
       "      <td>-2.3</td>\n",
       "      <td>0.568</td>\n",
       "      <td>4.78</td>\n",
       "      <td>3.99</td>\n",
       "      <td>3.17</td>\n",
       "      <td>0.225</td>\n",
       "      <td>1.18</td>\n",
       "    </tr>\n",
       "    <tr>\n",
       "      <th>4</th>\n",
       "      <td>-2.3</td>\n",
       "      <td>0.568</td>\n",
       "      <td>4.78</td>\n",
       "      <td>3.99</td>\n",
       "      <td>3.17</td>\n",
       "      <td>0.250</td>\n",
       "      <td>1.82</td>\n",
       "    </tr>\n",
       "  </tbody>\n",
       "</table>\n",
       "</div>"
      ],
      "text/plain": [
       "   -2.3  0.568  4.78  3.99  3.17  0.125  0.11\n",
       "0  -2.3  0.568  4.78  3.99  3.17  0.150  0.27\n",
       "1  -2.3  0.568  4.78  3.99  3.17  0.175  0.47\n",
       "2  -2.3  0.568  4.78  3.99  3.17  0.200  0.78\n",
       "3  -2.3  0.568  4.78  3.99  3.17  0.225  1.18\n",
       "4  -2.3  0.568  4.78  3.99  3.17  0.250  1.82"
      ]
     },
     "execution_count": 48,
     "metadata": {},
     "output_type": "execute_result"
    }
   ],
   "source": [
    "df3 = dataset_reader('yachtData.csv')\n",
    "\n",
    "df3.head()"
   ]
  },
  {
   "cell_type": "markdown",
   "id": "0c92f5df-af66-42e2-93a4-dec7b9196e95",
   "metadata": {},
   "source": [
    "### Closed Form Solution without Regularisation"
   ]
  },
  {
   "cell_type": "code",
   "execution_count": 49,
   "id": "4869087f-7a17-46cd-966b-6b05c0ebd631",
   "metadata": {},
   "outputs": [],
   "source": [
    "test_3 = LinearRegression(df3.values[:,0:-1], df3.values[:,-1], learningRate=0.00001, tolerance=0.0000001,\n",
    "                          lamda=0.001, gd=False, sgd=False, reg=False, reg_gd=False)"
   ]
  },
  {
   "cell_type": "code",
   "execution_count": 50,
   "id": "897c68eb-25d1-483f-b560-75c58e180c24",
   "metadata": {},
   "outputs": [
    {
     "name": "stdout",
     "output_type": "stream",
     "text": [
      "Data is full rank\n",
      "Matrix is not low rank\n",
      "[211.07681883   4.85421078 -59.8745781    0.89675092 -15.65939217\n",
      " -20.0896818  358.0980443 ]\n",
      "SSE: 27664.703370893825\n",
      "RMSE: 10.604628413297716\n"
     ]
    }
   ],
   "source": [
    "test_3.run_model()"
   ]
  },
  {
   "cell_type": "markdown",
   "id": "4ff56644-a834-46d9-8722-202bcc96d8fc",
   "metadata": {},
   "source": [
    "### Closed Form Solution with Regularisation"
   ]
  },
  {
   "cell_type": "code",
   "execution_count": 51,
   "id": "84de5f6e-cada-42fb-b403-5c734c1729b1",
   "metadata": {},
   "outputs": [],
   "source": [
    "test_3 = LinearRegression(df3.values[:,0:-1], df3.values[:,-1], learningRate=0.00001,tolerance=0.0000001,\n",
    "                          lamda=0.001, gd=False, sgd=False, reg=True, reg_gd=False)"
   ]
  },
  {
   "cell_type": "code",
   "execution_count": 52,
   "id": "44ead31a-5087-4894-a75d-44e18fa92cc2",
   "metadata": {},
   "outputs": [
    {
     "name": "stdout",
     "output_type": "stream",
     "text": [
      "Data is full rank\n",
      "Matrix is not low rank\n",
      "[201.95604659   4.82787029 -72.62438967  -1.43936751 -14.42558948\n",
      " -16.54709768 352.23524493]\n",
      "SSE: 27317.727851706215\n",
      "RMSE: 10.537916027086556\n"
     ]
    }
   ],
   "source": [
    "test_3.run_model()"
   ]
  },
  {
   "cell_type": "markdown",
   "id": "54c920be-aa01-4e17-a1d0-87a8a1928dcd",
   "metadata": {},
   "source": [
    "### Gradient Descent without Regularisation"
   ]
  },
  {
   "cell_type": "code",
   "execution_count": 53,
   "id": "f5a46dc8-7fbd-4d8c-8d87-1cc74d637c1d",
   "metadata": {},
   "outputs": [],
   "source": [
    "test_3 = LinearRegression(df3.values[:,0:-1], df3.values[:,-1], learningRate=0.00001, tolerance=0.0000001,\n",
    "                          lamda=0.001, error='rmse', gd=True, sgd=False, reg=False, reg_gd=False)"
   ]
  },
  {
   "cell_type": "code",
   "execution_count": 54,
   "id": "e3f167c5-11d7-43da-bde1-3e42bc92cb9e",
   "metadata": {},
   "outputs": [
    {
     "name": "stderr",
     "output_type": "stream",
     "text": [
      " 33%|████████████████████████                                                 | 16453/50000 [00:00<00:00, 82634.12it/s]"
     ]
    },
    {
     "name": "stdout",
     "output_type": "stream",
     "text": [
      "Data is full rank\n",
      "Matrix is not low rank\n"
     ]
    },
    {
     "name": "stderr",
     "output_type": "stream",
     "text": [
      "100%|█████████████████████████████████████████████████████████████████████████| 50000/50000 [00:00<00:00, 84878.69it/s]\n"
     ]
    },
    {
     "data": {
      "image/png": "[encoded data removed]",
      "text/plain": [
       "<Figure size 432x288 with 1 Axes>"
      ]
     },
     "metadata": {
      "needs_background": "light"
     },
     "output_type": "display_data"
    },
    {
     "name": "stdout",
     "output_type": "stream",
     "text": [
      "[ 8.65335778  4.86470662 -4.26279013 10.98290262 -4.81082171  9.3032055\n",
      " 10.58245923]\n",
      "SSE: 57003.90566080822\n",
      "RMSE: 15.222456889185885\n"
     ]
    }
   ],
   "source": [
    "test_3.run_model()"
   ]
  },
  {
   "cell_type": "markdown",
   "id": "53e3782b-8002-45fd-9ad3-7603b2c4af99",
   "metadata": {},
   "source": [
    "### Gradient Descent with Regularisation"
   ]
  },
  {
   "cell_type": "code",
   "execution_count": 55,
   "id": "572e9ada-ffd8-4383-82ea-621a8da6656b",
   "metadata": {},
   "outputs": [],
   "source": [
    "test_3 = LinearRegression(df3.values[:,0:-1], df3.values[:,-1], learningRate=0.00001, tolerance=0.0000001,\n",
    "                          lamda=0.001, error='rmse', gd=False, sgd=False, reg=False, reg_gd=True)"
   ]
  },
  {
   "cell_type": "code",
   "execution_count": 56,
   "id": "79b58f87-dff6-4557-b583-5daaf609acfd",
   "metadata": {},
   "outputs": [
    {
     "name": "stderr",
     "output_type": "stream",
     "text": [
      "  8%|██████▎                                                                   | 4234/50000 [00:00<00:01, 39712.07it/s]"
     ]
    },
    {
     "name": "stdout",
     "output_type": "stream",
     "text": [
      "Data is full rank\n",
      "Matrix is not low rank\n"
     ]
    },
    {
     "name": "stderr",
     "output_type": "stream",
     "text": [
      "100%|█████████████████████████████████████████████████████████████████████████| 50000/50000 [00:00<00:00, 72673.94it/s]"
     ]
    },
    {
     "name": "stdout",
     "output_type": "stream",
     "text": [
      "[ 8.65209136  4.86399307 -4.26212495 10.98132696 -4.80928465  9.30163673\n",
      " 10.57936939]\n",
      "SSE: 57003.35173867902\n",
      "RMSE: 15.222382928672845\n"
     ]
    },
    {
     "name": "stderr",
     "output_type": "stream",
     "text": [
      "\n"
     ]
    }
   ],
   "source": [
    "test_3.run_model()"
   ]
  },
  {
   "cell_type": "markdown",
   "id": "64b9c4e7-c0dc-453b-b261-d9427e90fc25",
   "metadata": {},
   "source": [
    "### Stochastic Gradient Descent"
   ]
  },
  {
   "cell_type": "code",
   "execution_count": 57,
   "id": "e05b1594-5dd0-4c5a-be88-26941d1306f8",
   "metadata": {},
   "outputs": [],
   "source": [
    "test_3 = LinearRegression(df3.values[:,0:-1], df3.values[:,-1], learningRate=0.00001, tolerance=0.0000001,\n",
    "                          lamda=0.001, error='rmse', gd=False, sgd=True, reg=False, reg_gd=False)"
   ]
  },
  {
   "cell_type": "code",
   "execution_count": 58,
   "id": "0ecbc8a0-9317-4d87-8966-e412504bb7d9",
   "metadata": {},
   "outputs": [
    {
     "name": "stderr",
     "output_type": "stream",
     "text": [
      "  1%|▊                                                                           | 518/50000 [00:00<00:09, 5140.32it/s]"
     ]
    },
    {
     "name": "stdout",
     "output_type": "stream",
     "text": [
      "Data is full rank\n",
      "Matrix is not low rank\n"
     ]
    },
    {
     "name": "stderr",
     "output_type": "stream",
     "text": [
      "  9%|██████▉                                                                    | 4609/50000 [00:00<00:07, 6369.64it/s]\n"
     ]
    },
    {
     "name": "stdout",
     "output_type": "stream",
     "text": [
      "The model stopped learning - Converged\n"
     ]
    },
    {
     "data": {
      "image/png": "[encoded data removed]",
      "text/plain": [
       "<Figure size 432x288 with 1 Axes>"
      ]
     },
     "metadata": {
      "needs_background": "light"
     },
     "output_type": "display_data"
    },
    {
     "name": "stdout",
     "output_type": "stream",
     "text": [
      "[ 0.11773399 -0.16785046 -0.05151523  0.13605586  0.09720233  0.06643654\n",
      " -0.05806268]\n",
      "SSE: 78604.49222853793\n",
      "RMSE: 17.875414854306705\n"
     ]
    }
   ],
   "source": [
    "test_3.run_model()"
   ]
  },
  {
   "cell_type": "code",
   "execution_count": null,
   "id": "3bca254f-705e-4782-bd04-d7d076b8262d",
   "metadata": {},
   "outputs": [],
   "source": []
  }
 ],
 "metadata": {
  "kernelspec": {
   "display_name": "Python 3",
   "language": "python",
   "name": "python3"
  },
  "language_info": {
   "codemirror_mode": {
    "name": "ipython",
    "version": 3
   },
   "file_extension": ".py",
   "mimetype": "text/x-python",
   "name": "python",
   "nbconvert_exporter": "python",
   "pygments_lexer": "ipython3",
   "version": "3.8.5"
  }
 },
 "nbformat": 4,
 "nbformat_minor": 5
}
